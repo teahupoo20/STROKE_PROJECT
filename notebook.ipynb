{
 "cells": [
  {
   "cell_type": "code",
   "execution_count": 4,
   "id": "capable-night",
   "metadata": {},
   "outputs": [],
   "source": [
    "import pandas as pd\n",
    "import numpy as np\n",
    "import plotly.express as pe\n",
    "import seaborn as sns\n",
    "from pathlib import Path\n",
    "\n",
    "raw_file = Path.cwd() / 'datasets/raw_data.csv'"
   ]
  },
  {
   "cell_type": "code",
   "execution_count": 5,
   "id": "attempted-contrary",
   "metadata": {},
   "outputs": [],
   "source": [
    "df = pd.read_csv(raw_file)"
   ]
  },
  {
   "cell_type": "code",
   "execution_count": null,
   "id": "appropriate-jones",
   "metadata": {},
   "outputs": [],
   "source": []
  }
 ],
 "metadata": {
  "kernelspec": {
   "display_name": "IRONHACK-M0-SaubP",
   "language": "python",
   "name": "ironhack-m0-saubp"
  },
  "language_info": {
   "codemirror_mode": {
    "name": "ipython",
    "version": 3
   },
   "file_extension": ".py",
   "mimetype": "text/x-python",
   "name": "python",
   "nbconvert_exporter": "python",
   "pygments_lexer": "ipython3",
   "version": "3.9.0"
  }
 },
 "nbformat": 4,
 "nbformat_minor": 5
}
